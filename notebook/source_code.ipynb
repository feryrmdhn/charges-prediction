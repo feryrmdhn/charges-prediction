{
 "cells": [
  {
   "cell_type": "markdown",
   "metadata": {},
   "source": [
    "## Note\n",
    "\n",
    "This is just an empty file, I did not include the notebook because its size is very heavy\n",
    "to see it please visit : https://drive.google.com/drive/folders/17fG_j6pdlKnpLTYxpsqbSvkQV28_hmgd?usp=drive_link"
   ]
  }
 ],
 "metadata": {
  "language_info": {
   "name": "python"
  }
 },
 "nbformat": 4,
 "nbformat_minor": 2
}
